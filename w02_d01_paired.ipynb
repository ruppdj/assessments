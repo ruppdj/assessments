{
 "cells": [
  {
   "cell_type": "code",
   "execution_count": 52,
   "metadata": {
    "collapsed": false
   },
   "outputs": [],
   "source": [
    "import scipy.stats as ss\n",
    "import pandas as pd\n",
    "import numpy as np\n",
    "from pylab import plot,show,hist\n"
   ]
  },
  {
   "cell_type": "code",
   "execution_count": null,
   "metadata": {
    "collapsed": true
   },
   "outputs": [],
   "source": [
    "1)A typist makes on average 2 mistakes per page.\n",
    "What is the probability of a particular page having no errors on it?\n",
    "\n",
    "Ans :\n",
    "Poisson Distribution\n",
    "lambda = 2 (mistakes per page)\n",
    "X~ Poisson Distribution (n=0 lambda=2) = e^(-2) = .135\n",
    "\n",
    "\n",
    "2. Components are packed in boxes of 20. The probability of a component being defective is 0.1.\n",
    "What is the probability of a box containing 2 defective components?\n",
    "\n",
    "Ans :\n",
    "X~ Binomial(n=20, x =2, p=.1) = nCx * p^x *(1-p)^(n-x)  = .285\n",
    "\n",
    "3.Patrons arrive at a local bar at a mean rate of 30 per hour.\n",
    "What is the probability that the bouncer has to wait more than 3 minutes to card the next patron?\n",
    "\n",
    "Ans:\n",
    "lambda = 1.5 per 3 min\n",
    "X~ Poisson Distribution(n=0, lambda = 1.5) = e^(-1.5) = .223\n",
    "\n",
    "4.A variable is normally distributed with a mean of 120 and a standard deviation of 5. One score is randomly sampled.\n",
    "What is the probability the score is above 127? Use scipy.stats.norm to perform the calculation.\n",
    "\n",
    "Ans :\n",
    "import scipy.stats as ss\n",
    "We want the portion to the right so subtract from 1\n",
    "X ~ Standard Normal Distribution(u=120 std=5 x=127) ( 1 - ss.norm.cdf(127,loc=120,scale=5) ) =  0.0807566\n",
    "\n",
    "5. You need to find a tall person, at least 6 feet tall, to help you reach a cookie jar. 8% of the population is 6 feet or taller.\n",
    "If you wait on the sidewalk, how many people would you expect to have passed you by before you'd have a candidate to reach the jar?\n",
    "\n",
    "Ans :\n",
    "X ~ Geometric(p=.08) find the mean (1/log2(1-.08)) = 8.31 people\n",
    "\n",
    "\n",
    "6.A harried passenger will be several minutes late for a scheduled 10 A.M. flight to NYC. Nevertheless, he might still make the flight, since boarding is always allowed until 10:10 A.M., and boarding is sometimes permitted up to 10:30 AM.\n",
    "Assuming the extended boarding time is uniformly distributed over the above limits, find the probability that the passenger will make his flight, assuming he arrives at the boarding gate at 10:25.\n",
    "\n",
    "Ans:\n",
    "Extra time span (b-a) or 1/(10:30-10:10)\n",
    "He makes the fight if it is in the (10:25 to 10:30) time span (10:30- 10:25)\n",
    "1/b-a * (1-(b-x))\n",
    "(1/20)*5 = 0.25\n",
    "\n"
   ]
  },
  {
   "cell_type": "code",
   "execution_count": 6,
   "metadata": {
    "collapsed": false
   },
   "outputs": [
    {
     "data": {
      "text/plain": [
       "0.080756659233771066"
      ]
     },
     "execution_count": 6,
     "metadata": {},
     "output_type": "execute_result"
    }
   ],
   "source": [
    "# \n",
    "\n",
    "1 - ss.norm.cdf(127,loc=120,scale=5)"
   ]
  },
  {
   "cell_type": "code",
   "execution_count": 10,
   "metadata": {
    "collapsed": false
   },
   "outputs": [
    {
     "data": {
      "text/html": [
       "<div>\n",
       "<table border=\"1\" class=\"dataframe\">\n",
       "  <thead>\n",
       "    <tr style=\"text-align: right;\">\n",
       "      <th></th>\n",
       "      <th>family_income</th>\n",
       "      <th>gpa</th>\n",
       "      <th>parent_avg_age</th>\n",
       "    </tr>\n",
       "  </thead>\n",
       "  <tbody>\n",
       "    <tr>\n",
       "      <th>0</th>\n",
       "      <td>31402.0</td>\n",
       "      <td>3.18</td>\n",
       "      <td>32</td>\n",
       "    </tr>\n",
       "    <tr>\n",
       "      <th>1</th>\n",
       "      <td>32247.0</td>\n",
       "      <td>2.98</td>\n",
       "      <td>48</td>\n",
       "    </tr>\n",
       "    <tr>\n",
       "      <th>2</th>\n",
       "      <td>34732.0</td>\n",
       "      <td>2.85</td>\n",
       "      <td>61</td>\n",
       "    </tr>\n",
       "    <tr>\n",
       "      <th>3</th>\n",
       "      <td>53759.0</td>\n",
       "      <td>3.39</td>\n",
       "      <td>62</td>\n",
       "    </tr>\n",
       "  </tbody>\n",
       "</table>\n",
       "</div>"
      ],
      "text/plain": [
       "   family_income   gpa  parent_avg_age\n",
       "0        31402.0  3.18              32\n",
       "1        32247.0  2.98              48\n",
       "2        34732.0  2.85              61\n",
       "3        53759.0  3.39              62"
      ]
     },
     "execution_count": 10,
     "metadata": {},
     "output_type": "execute_result"
    }
   ],
   "source": [
    "df = pd.read_csv('data/admissions.csv')\n",
    "df.head(4)"
   ]
  },
  {
   "cell_type": "code",
   "execution_count": 25,
   "metadata": {
    "collapsed": true
   },
   "outputs": [],
   "source": [
    "#self made funct to get covarance\n",
    "def cov1(x,y):\n",
    "    avex=np.mean(x)\n",
    "    avey=np.mean(y)\n",
    "   \n",
    "    tot =0.0\n",
    "    \n",
    "    for xi,yi in zip(x,y):\n",
    "        tot+=(xi-avex)*(yi-avey)\n",
    "        \n",
    "    return tot/(len(x)-1)\n"
   ]
  },
  {
   "cell_type": "code",
   "execution_count": 31,
   "metadata": {
    "collapsed": false
   },
   "outputs": [
    {
     "data": {
      "text/plain": [
       "1.4142135623730951"
      ]
     },
     "execution_count": 31,
     "metadata": {},
     "output_type": "execute_result"
    }
   ],
   "source": [
    "x = 2\n",
    "x**2\n",
    "np.sqrt(x)"
   ]
  },
  {
   "cell_type": "code",
   "execution_count": 33,
   "metadata": {
    "collapsed": true
   },
   "outputs": [],
   "source": [
    "# \n",
    "def corr1(x,y):\n",
    "    avex=np.mean(x)\n",
    "    avey=np.mean(y)\n",
    "   \n",
    "    num =0.0\n",
    "    denomx = 0.0\n",
    "    denomy = 0.0\n",
    "    \n",
    "    for xi,yi in zip(x,y):\n",
    "        num+=(xi-avex)*(yi-avey)\n",
    "        denomx += (xi-avex)**2\n",
    "        denomy += (yi-avey)**2\n",
    "    \n",
    "    return num / np.sqrt(denomx*denomy)\n",
    "    "
   ]
  },
  {
   "cell_type": "code",
   "execution_count": 34,
   "metadata": {
    "collapsed": false
   },
   "outputs": [],
   "source": [
    "fi = df['family_income']\n",
    "gpa = df['gpa']\n",
    "paa = df['parent_avg_age']"
   ]
  },
  {
   "cell_type": "code",
   "execution_count": 35,
   "metadata": {
    "collapsed": false
   },
   "outputs": [
    {
     "name": "stdout",
     "output_type": "stream",
     "text": [
      "Covariance of family income and gpa 4015.29908503\n",
      "Covariance of parents average age and gpa -0.0287852599262\n",
      "Covariance of family income and parents average age -1226.32627973\n"
     ]
    }
   ],
   "source": [
    "print \"Covariance of family income and gpa\", cov1(fi, gpa)\n",
    "print \"Covariance of parents average age and gpa\", cov1(paa, gpa)\n",
    "print \"Covariance of family income and parents average age\", cov1(fi, paa)"
   ]
  },
  {
   "cell_type": "code",
   "execution_count": 36,
   "metadata": {
    "collapsed": false
   },
   "outputs": [
    {
     "data": {
      "text/html": [
       "<div>\n",
       "<table border=\"1\" class=\"dataframe\">\n",
       "  <thead>\n",
       "    <tr style=\"text-align: right;\">\n",
       "      <th></th>\n",
       "      <th>family_income</th>\n",
       "      <th>gpa</th>\n",
       "      <th>parent_avg_age</th>\n",
       "    </tr>\n",
       "  </thead>\n",
       "  <tbody>\n",
       "    <tr>\n",
       "      <th>family_income</th>\n",
       "      <td>3.329410e+08</td>\n",
       "      <td>4015.299085</td>\n",
       "      <td>-1226.326280</td>\n",
       "    </tr>\n",
       "    <tr>\n",
       "      <th>gpa</th>\n",
       "      <td>4.015299e+03</td>\n",
       "      <td>0.087891</td>\n",
       "      <td>-0.028785</td>\n",
       "    </tr>\n",
       "    <tr>\n",
       "      <th>parent_avg_age</th>\n",
       "      <td>-1.226326e+03</td>\n",
       "      <td>-0.028785</td>\n",
       "      <td>112.977442</td>\n",
       "    </tr>\n",
       "  </tbody>\n",
       "</table>\n",
       "</div>"
      ],
      "text/plain": [
       "                family_income          gpa  parent_avg_age\n",
       "family_income    3.329410e+08  4015.299085    -1226.326280\n",
       "gpa              4.015299e+03     0.087891       -0.028785\n",
       "parent_avg_age  -1.226326e+03    -0.028785      112.977442"
      ]
     },
     "execution_count": 36,
     "metadata": {},
     "output_type": "execute_result"
    }
   ],
   "source": [
    "#covarance for data frame \n",
    "df.cov()"
   ]
  },
  {
   "cell_type": "code",
   "execution_count": 39,
   "metadata": {
    "collapsed": false
   },
   "outputs": [
    {
     "name": "stdout",
     "output_type": "stream",
     "text": [
      "Correlation of family income and gpa 0.742269390204\n",
      "Correlation of parents average age and gpa -0.00913485396451\n",
      "Correlation of family income and parents average age -0.0063230482719\n"
     ]
    }
   ],
   "source": [
    "print \"Correlation of family income and gpa\", corr1(fi, gpa)\n",
    "print \"Correlation of parents average age and gpa\", corr1(paa, gpa)\n",
    "print \"Correlation of family income and parents average age\", corr1(fi, paa)"
   ]
  },
  {
   "cell_type": "code",
   "execution_count": 40,
   "metadata": {
    "collapsed": false
   },
   "outputs": [
    {
     "data": {
      "text/html": [
       "<div>\n",
       "<table border=\"1\" class=\"dataframe\">\n",
       "  <thead>\n",
       "    <tr style=\"text-align: right;\">\n",
       "      <th></th>\n",
       "      <th>family_income</th>\n",
       "      <th>gpa</th>\n",
       "      <th>parent_avg_age</th>\n",
       "    </tr>\n",
       "  </thead>\n",
       "  <tbody>\n",
       "    <tr>\n",
       "      <th>family_income</th>\n",
       "      <td>1.000000</td>\n",
       "      <td>0.742269</td>\n",
       "      <td>-0.006323</td>\n",
       "    </tr>\n",
       "    <tr>\n",
       "      <th>gpa</th>\n",
       "      <td>0.742269</td>\n",
       "      <td>1.000000</td>\n",
       "      <td>-0.009135</td>\n",
       "    </tr>\n",
       "    <tr>\n",
       "      <th>parent_avg_age</th>\n",
       "      <td>-0.006323</td>\n",
       "      <td>-0.009135</td>\n",
       "      <td>1.000000</td>\n",
       "    </tr>\n",
       "  </tbody>\n",
       "</table>\n",
       "</div>"
      ],
      "text/plain": [
       "                family_income       gpa  parent_avg_age\n",
       "family_income        1.000000  0.742269       -0.006323\n",
       "gpa                  0.742269  1.000000       -0.009135\n",
       "parent_avg_age      -0.006323 -0.009135        1.000000"
      ]
     },
     "execution_count": 40,
     "metadata": {},
     "output_type": "execute_result"
    }
   ],
   "source": [
    "df.corr()"
   ]
  },
  {
   "cell_type": "code",
   "execution_count": 49,
   "metadata": {
    "collapsed": false
   },
   "outputs": [],
   "source": [
    "%matplotlib inline\n",
    "df_low_income = df[df['family_income']<26832]\n",
    "df_mid_income = df[(df['family_income']>26832) & (df['family_income'] < 37510)]\n",
    "df_high_income = df[df['family_income']>37510 ]\n",
    "\n"
   ]
  },
  {
   "cell_type": "code",
   "execution_count": 65,
   "metadata": {
    "collapsed": false
   },
   "outputs": [
    {
     "data": {
      "image/png": "[encoded data removed]",
      "text/plain": [
       "<matplotlib.figure.Figure at 0x127b76bd0>"
      ]
     },
     "metadata": {},
     "output_type": "display_data"
    }
   ],
   "source": [
    "#how to make a histagram \n",
    "\n",
    "gpa_low_hist = np.hstack(df_low_income['gpa'])\n",
    "low_income_pdf = ss.kde.gaussian_kde(gpa_low_hist)\n",
    "\n",
    "gpa_mid_hist = np.hstack(df_mid_income['gpa'])\n",
    "mid_income_pdf = ss.kde.gaussian_kde(gpa_mid_hist)\n",
    "\n",
    "gpa_high_hist = np.hstack(df_high_income['gpa'])\n",
    "high_income_pdf = ss.kde.gaussian_kde(gpa_high_hist)\n",
    "\n",
    "\n",
    "x = np.linspace(1.5,4)\n",
    "\n",
    "\n",
    "#plot in frame 111\n",
    "fig = plt.figure()\n",
    "ax = fig.add_subplot(111)\n",
    "ax.plot(x,low_income_pdf(x),'r',label = 'low')# distribution function\n",
    "ax. plot(x,mid_income_pdf(x),'b', label = 'mid')\n",
    "ax.plot(x,high_income_pdf(x),'g', label = 'high')\n",
    "\n",
    "ax.legend()\n",
    "#hist(gpa_low_hist,normed=1,alpha=.3) # histogram\n",
    "show()\n",
    "\n"
   ]
  },
  {
   "cell_type": "code",
   "execution_count": 72,
   "metadata": {
    "collapsed": false
   },
   "outputs": [
    {
     "name": "stdout",
     "output_type": "stream",
     "text": [
      "90 percentile GPA for low income is 3.004\n",
      "90 percentile GPA for mid income is 3.26\n",
      "90 percentile GPA for high income is 3.49\n"
     ]
    }
   ],
   "source": [
    "print \"90 percentile GPA for low income is\", np.percentile(df_low_income['gpa'],90)\n",
    "print \"90 percentile GPA for mid income is\", np.percentile(df_mid_income['gpa'],90)\n",
    "print \"90 percentile GPA for high income is\", np.percentile(df_high_income['gpa'],90)"
   ]
  },
  {
   "cell_type": "code",
   "execution_count": 74,
   "metadata": {
    "collapsed": false
   },
   "outputs": [
    {
     "data": {
      "text/html": [
       "<div>\n",
       "<table border=\"1\" class=\"dataframe\">\n",
       "  <thead>\n",
       "    <tr style=\"text-align: right;\">\n",
       "      <th></th>\n",
       "      <th>family_income</th>\n",
       "      <th>gpa</th>\n",
       "      <th>family_income_cat</th>\n",
       "      <th>parent_avg_age</th>\n",
       "      <th>hrs_studied</th>\n",
       "      <th>sport_performance</th>\n",
       "    </tr>\n",
       "  </thead>\n",
       "  <tbody>\n",
       "    <tr>\n",
       "      <th>0</th>\n",
       "      <td>31402.0</td>\n",
       "      <td>3.18</td>\n",
       "      <td>medium</td>\n",
       "      <td>32</td>\n",
       "      <td>49.463745</td>\n",
       "      <td>0.033196</td>\n",
       "    </tr>\n",
       "    <tr>\n",
       "      <th>1</th>\n",
       "      <td>32247.0</td>\n",
       "      <td>2.98</td>\n",
       "      <td>medium</td>\n",
       "      <td>48</td>\n",
       "      <td>16.414467</td>\n",
       "      <td>0.000317</td>\n",
       "    </tr>\n",
       "  </tbody>\n",
       "</table>\n",
       "</div>"
      ],
      "text/plain": [
       "   family_income   gpa family_income_cat  parent_avg_age  hrs_studied  \\\n",
       "0        31402.0  3.18            medium              32    49.463745   \n",
       "1        32247.0  2.98            medium              48    16.414467   \n",
       "\n",
       "   sport_performance  \n",
       "0           0.033196  \n",
       "1           0.000317  "
      ]
     },
     "execution_count": 74,
     "metadata": {},
     "output_type": "execute_result"
    }
   ],
   "source": [
    "df2 = pd.read_csv('data/admissions_with_study_hrs_and_sports.csv')\n",
    "df2.head(2)"
   ]
  },
  {
   "cell_type": "code",
   "execution_count": 85,
   "metadata": {
    "collapsed": false
   },
   "outputs": [
    {
     "data": {
      "text/plain": [
       "<matplotlib.axes._subplots.AxesSubplot at 0x12785cbd0>"
      ]
     },
     "execution_count": 85,
     "metadata": {},
     "output_type": "execute_result"
    },
    {
     "data": {
      "image/png": "[encoded data removed]",
      "text/plain": [
       "<matplotlib.figure.Figure at 0x127415990>"
      ]
     },
     "metadata": {},
     "output_type": "display_data"
    }
   ],
   "source": [
    "#plt.rcParams['figure.figsize'] = (15, 5)\n",
    "\n",
    "df2[['gpa','hrs_studied']].plot(kind='scatter', x='hrs_studied', y='gpa')"
   ]
  },
  {
   "cell_type": "code",
   "execution_count": 90,
   "metadata": {
    "collapsed": false
   },
   "outputs": [
    {
     "name": "stdout",
     "output_type": "stream",
     "text": [
      "0.000458235267961 2.96056387232 0.475940264662 0.0 8.07722172092e-06\n"
     ]
    }
   ],
   "source": [
    "slope, intercept, r_value, p_value, std_err = scipy.stats.linregress(df2['hrs_studied'], df2['gpa'])\n",
    "print slope, intercept, r_value, p_value, std_err\n"
   ]
  },
  {
   "cell_type": "code",
   "execution_count": 91,
   "metadata": {
    "collapsed": false
   },
   "outputs": [
    {
     "name": "stdout",
     "output_type": "stream",
     "text": [
      "pearson corr coeff (0.47594026466221012, 0.0)\n",
      "SpearmanrResult(correlation=0.98495916559333363, pvalue=0.0)\n"
     ]
    }
   ],
   "source": [
    "print \"pearson corr coeff\", ss.pearsonr(df2['hrs_studied'], df2['gpa'])\n",
    "print ss.spearmanr(df2['hrs_studied'], df2['gpa'])"
   ]
  },
  {
   "cell_type": "code",
   "execution_count": 114,
   "metadata": {
    "collapsed": false
   },
   "outputs": [],
   "source": [
    "#get list of random numbers from 5000 to 6000 that is uniformaly distributed (last field is number of random)\n",
    "num_views=np.random.randint(5000,6000,100)\n",
    "profit_per =(.2*50+(1-.2)*60)\n",
    "# we need the binomial for 12% sucess so put it through the binomial random witht the number of views mult by constant\n",
    "#profit_per get list of random profits\n",
    "profits =[np.random.binomial(n,.12)*profit_per for n in num_views]\n",
    "\n",
    "profit_series = pd.Series([np.random.binomial(n,.12)*profit_per for n in num_views])\n",
    "\n",
    "#print profit"
   ]
  },
  {
   "cell_type": "code",
   "execution_count": 115,
   "metadata": {
    "collapsed": false
   },
   "outputs": [
    {
     "data": {
      "image/png": "[encoded data removed]",
      "text/plain": [
       "<matplotlib.figure.Figure at 0x1275ab550>"
      ]
     },
     "metadata": {},
     "output_type": "display_data"
    }
   ],
   "source": [
    "profit_hist = np.hstack(profit_series)\n",
    "profit_pdf = ss.kde.gaussian_kde(profit_hist)\n",
    "\n",
    "x = np.linspace(0,70000)\n",
    "\n",
    "fig = plt.figure()\n",
    "ax = fig.add_subplot(111)\n",
    "ax.plot(x,profit_pdf(x),'r')# distribution function\n",
    "\n",
    "\n",
    "\n",
    "#hist(gpa_low_hist,normed=1,alpha=.3) # histogram\n",
    "show()\n"
   ]
  },
  {
   "cell_type": "code",
   "execution_count": 116,
   "metadata": {
    "collapsed": false
   },
   "outputs": [
    {
     "data": {
      "text/plain": [
       "42174.699999999997"
      ]
     },
     "execution_count": 116,
     "metadata": {},
     "output_type": "execute_result"
    }
   ],
   "source": [
    "np.percentile(profit_series,95)"
   ]
  },
  {
   "cell_type": "code",
   "execution_count": 111,
   "metadata": {
    "collapsed": true
   },
   "outputs": [],
   "source": [
    "# repeat above for 'better fit' by doing more random tests\n",
    "\n",
    "#get list of random numbers from 5000 to 6000 that is uniformaly distributed (last field is number of random)\n",
    "num_views=np.random.randint(5000,6000,10000)\n",
    "profit_per =(.2*50+(1-.2)*60)\n",
    "# we need the binomial for 12% sucess so put it through the binomial random witht the number of views mult by constant\n",
    "#profit_per get list of random profits\n",
    "profits =[np.random.binomial(n,.12)*profit_per for n in num_views]\n",
    "\n",
    "profit_series = pd.Series([np.random.binomial(n,.12)*profit_per for n in num_views])"
   ]
  },
  {
   "cell_type": "code",
   "execution_count": 112,
   "metadata": {
    "collapsed": false
   },
   "outputs": [
    {
     "data": {
      "image/png": "[encoded data removed]",
      "text/plain": [
       "<matplotlib.figure.Figure at 0x126f99750>"
      ]
     },
     "metadata": {},
     "output_type": "display_data"
    }
   ],
   "source": [
    "profit_hist = np.hstack(profit_series)\n",
    "profit_pdf = ss.kde.gaussian_kde(profit_hist)\n",
    "\n",
    "x = np.linspace(25000,55000)\n",
    "\n",
    "fig = plt.figure()\n",
    "ax = fig.add_subplot(111)\n",
    "ax.plot(x,profit_pdf(x),'r')# distribution function\n",
    "\n",
    "\n",
    "\n",
    "#hist(gpa_low_hist,normed=1,alpha=.3) # histogram\n",
    "show()"
   ]
  },
  {
   "cell_type": "code",
   "execution_count": 113,
   "metadata": {
    "collapsed": false
   },
   "outputs": [
    {
     "data": {
      "text/plain": [
       "42340.0"
      ]
     },
     "execution_count": 113,
     "metadata": {},
     "output_type": "execute_result"
    }
   ],
   "source": [
    "np.percentile(profit_series,95)"
   ]
  },
  {
   "cell_type": "code",
   "execution_count": null,
   "metadata": {
    "collapsed": true
   },
   "outputs": [],
   "source": []
  }
 ],
 "metadata": {
  "kernelspec": {
   "display_name": "Python 2",
   "language": "python",
   "name": "python2"
  },
  "language_info": {
   "codemirror_mode": {
    "name": "ipython",
    "version": 2
   },
   "file_extension": ".py",
   "mimetype": "text/x-python",
   "name": "python",
   "nbconvert_exporter": "python",
   "pygments_lexer": "ipython2",
   "version": "2.7.13"
  }
 },
 "nbformat": 4,
 "nbformat_minor": 2
}
