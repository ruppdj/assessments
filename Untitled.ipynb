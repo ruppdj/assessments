{
 "cells": [
  {
   "cell_type": "code",
   "execution_count": 1,
   "metadata": {
    "collapsed": true
   },
   "outputs": [],
   "source": [
    "import requests\n",
    "\n",
    "# Import a library to parse the HTML content of web pages.\n",
    "from bs4 import BeautifulSoup\n",
    "\n",
    "import pandas as pd\n",
    "\n",
    "# Use a snapshot of http://www.bcsfootball.org/ taken on December 8th, 2013.\n",
    "URL = \"http://web.archive.org/web/20131208113724/http://www.bcsfootball.org/\"\n",
    "\n",
    "# Get the HTML content of the web page as a string.\n",
    "content = requests.get(URL).content\n",
    "\n",
    "# Use a BeatifulSoup object to parse the HTML with \"html.parser\".\n",
    "soup = BeautifulSoup(content, \"html.parser\")\n",
    "\n"
   ]
  },
  {
   "cell_type": "code",
   "execution_count": 3,
   "metadata": {
    "collapsed": false
   },
   "outputs": [
    {
     "data": {
      "text/plain": [
       "bs4.BeautifulSoup"
      ]
     },
     "execution_count": 3,
     "metadata": {},
     "output_type": "execute_result"
    }
   ],
   "source": [
    "type(soup)"
   ]
  },
  {
   "cell_type": "code",
   "execution_count": 5,
   "metadata": {
    "collapsed": true
   },
   "outputs": [],
   "source": [
    "rows = soup.select('table.mod-data tbody tr')"
   ]
  },
  {
   "cell_type": "code",
   "execution_count": 9,
   "metadata": {
    "collapsed": false
   },
   "outputs": [],
   "source": [
    "table_lst = []\n",
    "for row in rows:\n",
    "    cell_lst = [cell.text for cell in row]\n",
    "    table_lst.append(cell_lst)\n"
   ]
  },
  {
   "cell_type": "code",
   "execution_count": 10,
   "metadata": {
    "collapsed": false
   },
   "outputs": [
    {
     "name": "stdout",
     "output_type": "stream",
     "text": [
      "  ranking          state  score\n",
      "0       1  Florida State  .9948\n",
      "1       2     Ohio State  .9503\n",
      "2       3         Auburn  .9233\n",
      "3       4        Alabama  .8539\n",
      "4       5       Missouri  .8428\n"
     ]
    }
   ],
   "source": [
    "ranking = pd.DataFrame(table_lst)\n",
    "ranking.columns = ['ranking', 'state', 'score']\n",
    "print ranking.head()"
   ]
  },
  {
   "cell_type": "code",
   "execution_count": null,
   "metadata": {
    "collapsed": true
   },
   "outputs": [],
   "source": []
  }
 ],
 "metadata": {
  "kernelspec": {
   "display_name": "Python 2",
   "language": "python",
   "name": "python2"
  },
  "language_info": {
   "codemirror_mode": {
    "name": "ipython",
    "version": 2
   },
   "file_extension": ".py",
   "mimetype": "text/x-python",
   "name": "python",
   "nbconvert_exporter": "python",
   "pygments_lexer": "ipython2",
   "version": "2.7.13"
  }
 },
 "nbformat": 4,
 "nbformat_minor": 2
}
